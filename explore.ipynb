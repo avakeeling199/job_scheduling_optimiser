{
 "cells": [
  {
   "cell_type": "code",
   "execution_count": null,
   "metadata": {},
   "outputs": [],
   "source": []
  },
  {
   "cell_type": "code",
   "execution_count": 13,
   "metadata": {},
   "outputs": [],
   "source": [
    "import pandas as pd\n",
    "df = pd.read_csv('ptask (1)/data_1_23_40_66.dat')"
   ]
  },
  {
   "cell_type": "code",
   "execution_count": null,
   "metadata": {},
   "outputs": [],
   "source": []
  },
  {
   "cell_type": "code",
   "execution_count": 15,
   "metadata": {},
   "outputs": [],
   "source": [
    "with open('ptask (1)/data_1_23_40_66.dat', 'r') as file:\n",
    "    lines = file.readlines()\n"
   ]
  },
  {
   "cell_type": "code",
   "execution_count": 16,
   "metadata": {},
   "outputs": [],
   "source": [
    "def parse_dat_file(filepath):\n",
    "    with open(filepath, \"r\") as f:\n",
    "        lines = [line.strip() for line in f if line.strip() and not line.startswith(\"#\")]\n",
    "\n",
    "    data = {}\n",
    "    i = 0\n",
    "\n",
    "    # Parse scalar key-value pairs like \"Type = 1\"\n",
    "    while i < len(lines):\n",
    "        if \"=\" in lines[i]:\n",
    "            key, val = lines[i].split(\"=\")\n",
    "            key, val = key.strip(), val.strip()\n",
    "\n",
    "            if key == \"Jobs\":\n",
    "                num_jobs = int(val)\n",
    "                data[\"Jobs\"] = []\n",
    "                i += 1\n",
    "                # Parse job lines (each has 2 integers)\n",
    "                for _ in range(num_jobs):\n",
    "                    job = list(map(int, lines[i].split()))\n",
    "                    data[\"Jobs\"].append(job)\n",
    "                    i += 1\n",
    "            elif key == \"Qualifications\":\n",
    "                num_quals = int(val)\n",
    "                data[\"Qualifications\"] = []\n",
    "                i += 1\n",
    "                for _ in range(num_quals):\n",
    "                    # Format: \"28:  30 36 1 2 3...\"\n",
    "                    colon_idx = lines[i].index(\":\")\n",
    "                    skill_line = list(map(int, lines[i][colon_idx + 1:].split()))\n",
    "                    data[\"Qualifications\"].append(skill_line)\n",
    "                    i += 1\n",
    "            else:\n",
    "                data[key] = int(val)\n",
    "                i += 1\n",
    "        else:\n",
    "            i += 1  # Skip any junk lines (just in case)\n",
    "\n",
    "    return data\n"
   ]
  },
  {
   "cell_type": "code",
   "execution_count": 17,
   "metadata": {},
   "outputs": [
    {
     "name": "stdout",
     "output_type": "stream",
     "text": [
      "Type: 1\n",
      "23 employees with skill sets\n"
     ]
    }
   ],
   "source": [
    "data = parse_dat_file(\"ptask (1)/data_1_23_40_66.dat\")\n",
    "print(f\"Type: {data['Type']}\")\n",
    "print(len(data[\"Qualifications\"]), \"employees with skill sets\")"
   ]
  },
  {
   "cell_type": "code",
   "execution_count": 18,
   "metadata": {},
   "outputs": [
    {
     "name": "stdout",
     "output_type": "stream",
     "text": [
      "# Randomly generated data for apersonnel scheduling problem\n",
      "# ./datagen tightness = 90 Multi-skilling level = 66\n",
      "# Random number generator seed = 0\n",
      "Type = 1\n",
      "Jobs = 40\n",
      "  43  516\n",
      " 164  746\n",
      "  75  591\n",
      " 230  718\n",
      " 839 1354\n",
      "  96  637\n",
      "   1  593\n",
      " 179  713\n",
      " 130  765\n",
      " 119  688\n",
      " 194  783\n",
      " 270  818\n",
      " 102  618\n",
      " 774 1291\n",
      "  28  550\n",
      "  56  630\n",
      " 758 1350\n",
      " 804 1320\n",
      "  16  557\n",
      "  16  565\n",
      "  30  536\n",
      " 186  752\n",
      " 677 1259\n",
      " 739 1244\n",
      " 834 1313\n",
      " 724 1346\n",
      " 761 1304\n",
      " 823 1396\n",
      " 569 1040\n",
      " 804 1340\n",
      " 125  740\n",
      " 764 1256\n",
      " 159  656\n",
      " 712 1278\n",
      " 726 1291\n",
      " 651 1235\n",
      " 750 1278\n",
      " 725 1363\n",
      " 867 1376\n",
      " 844 1319\n",
      "Qualifications = 23\n",
      " 26:   6  13   0   1   2   3   4   8  11  12  14  15  16  17  20  21  23  24  25  26  29  30  31  33  37  39 \n",
      " 24:  14  16   1   4   6   8  12  15  17  18  19  20  22  23  25  27  28  31  34  35  36  37  38  39 \n",
      " 28:  30  36   1   2   3   4   6   9  10  11  12  13  15  16  17  18  21  22  23  24  26  27  32  33  34  35  38  39 \n",
      " 24:   7  25   0   2   4   5   6  10  13  15  16  17  21  23  26  27  29  30  31  32  34  35  36  38 \n",
      " 29:   8  29   0   1   2   6   7  10  12  13  14  15  17  18  20  21  22  24  25  28  30  31  32  33  34  35  36  37  39 \n",
      " 32:   5  37   0   1   2   3   4   7   9  10  11  12  13  14  15  16  19  20  22  23  24  25  26  27  28  31  32  33  35  36  38  39 \n",
      " 26:  18  28   0   1   2   3   4   6   8  10  11  15  16  17  19  20  21  22  23  24  25  29  30  31  36  38 \n",
      " 29:   0  26   1   2   3   4   6   7   8  10  12  13  14  15  16  17  18  19  20  23  24  27  28  31  32  34  35  37  38 \n",
      " 30:  11  39   2   4   6   7   8   9  10  13  14  15  16  17  18  20  21  23  25  26  27  29  30  31  32  34  35  36  37  38 \n",
      " 24:  19  24   0   1   2   5   8   9  10  11  15  17  20  21  26  27  28  29  30  31  34  36  37  38 \n",
      " 30:   3  34   0   2   4   6   7   8   9  10  11  13  14  15  16  17  19  23  24  25  27  29  31  32  33  35  36  37  38  39 \n",
      " 28:  21  31   0   1   3   5   8   9  12  13  16  17  18  19  20  22  24  25  26  27  28  30  32  34  35  36  37  39 \n",
      " 29:  32  33   0   1   2   3   4   5   6   7   9  10  11  12  13  16  17  18  20  21  23  24  28  29  31  34  35  36  37 \n",
      " 35:   9  23   1   2   4   5   6   7   8  10  11  12  14  15  16  17  18  19  20  22  24  25  26  27  28  29  30  31  32  33  34  35  36  37  39 \n",
      " 31:  20  27   1   2   3   4   5   6   8   9  10  12  14  15  16  17  18  19  21  24  25  26  29  31  33  34  35  36  37  38  39 \n",
      " 23:  15  38   0   1   4   5   7  11  12  13  14  16  17  18  19  20  21  25  27  31  33  35  37 \n",
      " 24:   1   4   0   2   7   8  11  13  16  17  21  22  23  24  25  27  28  29  31  33  34  36  38  39 \n",
      " 28:   2  22   0   1   4   5   6   7   8  10  11  12  13  15  16  18  20  21  24  26  27  30  31  33  35  37  38  39 \n",
      " 29:  12  35   0   1   2   3   5   6   7   8  11  13  15  16  17  18  19  20  22  23  25  26  30  31  33  36  37  38  39 \n",
      " 28:  10  17   0   2   3   5   7   8   9  13  14  15  16  19  20  22  23  24  25  27  29  30  31  32  35  36  38  39 \n",
      " 33:  18  29  26  27  23  31  12   2   1  35  10  19  30  14  11  13  17  21   3   0  33  22   7  15  16  25   4  32  28  39  34  20   5 \n",
      " 31:   6   5  10  30  23  34  36  20  12   8  39  16   0  18   3  17  22  21  35  25  15  37  13   2  27  29  31  11  38  33  32 \n",
      " 33:  11   7  17  19   6  32   1  15   8  18  24  35  16   5  26  28  34  33  38  37  14   0   3  12  22  21  13  39  25   2  36  10   4 \n",
      "\n"
     ]
    }
   ],
   "source": [
    "with open(\"ptask (1)/data_1_23_40_66.dat\", \"r\") as file:\n",
    "    print(file.read())"
   ]
  },
  {
   "cell_type": "code",
   "execution_count": 11,
   "metadata": {},
   "outputs": [],
   "source": [
    "import random\n",
    "\n",
    "def initialize_population(num_individuals, num_jobs, qualifications):\n",
    "    \"\"\"\n",
    "    Initialize a population for the scheduling problem.\n",
    "    \n",
    "    Parameters:\n",
    "        - num_individuals: The number of individuals (solutions) in the population.\n",
    "        - num_jobs: The total number of jobs.\n",
    "        - qualifications: The qualification list mapping workers to jobs.\n",
    "        \n",
    "    Returns:\n",
    "        - population: A list of individuals representing the schedule.\n",
    "    \"\"\"\n",
    "    population = []\n",
    "    \n",
    "    for _ in range(num_individuals):\n",
    "        individual = []\n",
    "        \n",
    "        for job_idx in range(num_jobs):\n",
    "            qualified_workers = qualifications.get(job_idx, [])\n",
    "            if qualified_workers:\n",
    "                # Randomly assign a qualified worker to the job\n",
    "                worker = random.choice(qualified_workers)\n",
    "                individual.append(worker)\n",
    "            else:\n",
    "                # No qualified worker for this job, handle accordingly\n",
    "                individual.append(None)\n",
    "        \n",
    "        population.append(individual)\n",
    "    \n",
    "    return population\n"
   ]
  },
  {
   "cell_type": "code",
   "execution_count": 12,
   "metadata": {},
   "outputs": [
    {
     "ename": "TypeError",
     "evalue": "'list' object cannot be interpreted as an integer",
     "output_type": "error",
     "traceback": [
      "\u001b[0;31m---------------------------------------------------------------------------\u001b[0m",
      "\u001b[0;31mTypeError\u001b[0m                                 Traceback (most recent call last)",
      "Cell \u001b[0;32mIn[12], line 5\u001b[0m\n\u001b[1;32m      2\u001b[0m num_jobs \u001b[38;5;241m=\u001b[39m data[\u001b[38;5;124m\"\u001b[39m\u001b[38;5;124mJobs\u001b[39m\u001b[38;5;124m\"\u001b[39m]\n\u001b[1;32m      3\u001b[0m qualifications \u001b[38;5;241m=\u001b[39m data[\u001b[38;5;124m\"\u001b[39m\u001b[38;5;124mQualifications\u001b[39m\u001b[38;5;124m\"\u001b[39m]\n\u001b[0;32m----> 5\u001b[0m initial_population \u001b[38;5;241m=\u001b[39m \u001b[43minitialize_population\u001b[49m\u001b[43m(\u001b[49m\u001b[43mnum_individuals\u001b[49m\u001b[43m,\u001b[49m\u001b[43m \u001b[49m\u001b[43mnum_jobs\u001b[49m\u001b[43m,\u001b[49m\u001b[43m \u001b[49m\u001b[43mqualifications\u001b[49m\u001b[43m)\u001b[49m\n\u001b[1;32m      6\u001b[0m \u001b[38;5;28mprint\u001b[39m(initial_population[:\u001b[38;5;241m5\u001b[39m])\n",
      "Cell \u001b[0;32mIn[11], line 20\u001b[0m, in \u001b[0;36minitialize_population\u001b[0;34m(num_individuals, num_jobs, qualifications)\u001b[0m\n\u001b[1;32m     17\u001b[0m \u001b[38;5;28;01mfor\u001b[39;00m _ \u001b[38;5;129;01min\u001b[39;00m \u001b[38;5;28mrange\u001b[39m(num_individuals):\n\u001b[1;32m     18\u001b[0m     individual \u001b[38;5;241m=\u001b[39m []\n\u001b[0;32m---> 20\u001b[0m     \u001b[38;5;28;01mfor\u001b[39;00m job_idx \u001b[38;5;129;01min\u001b[39;00m \u001b[38;5;28;43mrange\u001b[39;49m\u001b[43m(\u001b[49m\u001b[43mnum_jobs\u001b[49m\u001b[43m)\u001b[49m:\n\u001b[1;32m     21\u001b[0m         qualified_workers \u001b[38;5;241m=\u001b[39m qualifications\u001b[38;5;241m.\u001b[39mget(job_idx, [])\n\u001b[1;32m     22\u001b[0m         \u001b[38;5;28;01mif\u001b[39;00m qualified_workers:\n\u001b[1;32m     23\u001b[0m             \u001b[38;5;66;03m# Randomly assign a qualified worker to the job\u001b[39;00m\n",
      "\u001b[0;31mTypeError\u001b[0m: 'list' object cannot be interpreted as an integer"
     ]
    }
   ],
   "source": [
    "num_individuals = 10 \n",
    "num_jobs = data[\"Jobs\"]\n",
    "qualifications = data[\"Qualifications\"]\n",
    "\n",
    "initial_population = initialize_population(num_individuals, num_jobs, qualifications)\n",
    "print(initial_population[:5])"
   ]
  },
  {
   "cell_type": "code",
   "execution_count": null,
   "metadata": {},
   "outputs": [],
   "source": [
    "from deap import base, creator, tools, algorithms\n",
    "# step 1: create problem definition\n",
    "creator.create(\"FitnessMulti\", base.Fitness, weights=(-1.0, -1.0))\n",
    "creator.create(\"Individual\", list, fitness=creator.FitnessMulti)\n",
    "\n",
    "# step 2: create the toolbox\n",
    "toolbox = base.Toolbox()\n",
    "toolbox.register(\"individual\", generate_individual) # need to make generate_individual\n",
    "toolbox.register(\"population\", tools.initRepeat, list, toolbox.individual)\n",
    "\n",
    "toolbox.register(\"evaluate\", evaluate_schedule) # need to make evaluate_schedule\n",
    "toolbox.register(\"mate\", crossover_schedules)\n",
    "toolbox.register(\"mutate\", mutate_schedule)\n",
    "toolbox.register(\"select\", tools.selNSGA2)\n",
    "\n",
    "#step 3: run\n",
    "population = toolbox.population(n=100)\n",
    "algorithms.eaMuPlusLambda(population, toolbox, mu=100, lambda_=200, cxpb=0.7, mutpb=0.3, ngen=100)"
   ]
  }
 ],
 "metadata": {
  "kernelspec": {
   "display_name": "dsfs",
   "language": "python",
   "name": "python3"
  },
  "language_info": {
   "codemirror_mode": {
    "name": "ipython",
    "version": 3
   },
   "file_extension": ".py",
   "mimetype": "text/x-python",
   "name": "python",
   "nbconvert_exporter": "python",
   "pygments_lexer": "ipython3",
   "version": "3.11.8"
  }
 },
 "nbformat": 4,
 "nbformat_minor": 2
}
